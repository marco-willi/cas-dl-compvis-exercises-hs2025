{
 "cells": [
  {
   "cell_type": "code",
   "execution_count": null,
   "id": "0",
   "metadata": {
    "nbgrader": {
     "grade": false,
     "grade_id": "load",
     "locked": true,
     "schema_version": 3,
     "solution": false,
     "task": false
    },
    "tags": []
   },
   "outputs": [],
   "source": [
    "%load_ext autoreload\n",
    "%autoreload 2\n",
    "\n",
    "from IPython.core.interactiveshell import InteractiveShell\n",
    "\n",
    "InteractiveShell.ast_node_interactivity = \"all\""
   ]
  },
  {
   "cell_type": "markdown",
   "id": "1",
   "metadata": {
    "nbgrader": {
     "grade": false,
     "grade_id": "header",
     "locked": true,
     "schema_version": 3,
     "solution": false,
     "task": false
    },
    "tags": []
   },
   "source": [
    "# Environment / Setup Check\n",
    "\n",
    "This notebook is for checking your environment setup.\n",
    "\n",
    "You can execute this within Google Colab or your own environment.\n",
    "\n",
    "Just run the notebook to verify the environment.\n"
   ]
  },
  {
   "cell_type": "markdown",
   "id": "2",
   "metadata": {
    "nbgrader": {
     "grade": false,
     "grade_id": "cell-d36f1df224ab279c",
     "locked": true,
     "schema_version": 3,
     "solution": false,
     "task": false
    }
   },
   "source": [
    "## Google Colab Check\n"
   ]
  },
  {
   "cell_type": "code",
   "execution_count": null,
   "id": "3",
   "metadata": {
    "nbgrader": {
     "grade": false,
     "grade_id": "cell-42cfd4cc5c371de6",
     "locked": true,
     "schema_version": 3,
     "solution": false,
     "task": false
    }
   },
   "outputs": [],
   "source": [
    "try:\n",
    "    IN_COLAB = True\n",
    "except:\n",
    "    IN_COLAB = False\n",
    "\n",
    "print(f\"In colab: {IN_COLAB}\")"
   ]
  },
  {
   "cell_type": "code",
   "execution_count": null,
   "id": "4",
   "metadata": {
    "nbgrader": {
     "grade": false,
     "grade_id": "cell-299dff08066dbe83",
     "locked": true,
     "schema_version": 3,
     "solution": false,
     "task": false
    }
   },
   "outputs": [],
   "source": [
    "if IN_COLAB:\n",
    "    from google.colab import drive\n",
    "\n",
    "    drive.mount(\"/content/drive\")"
   ]
  },
  {
   "cell_type": "markdown",
   "id": "5",
   "metadata": {
    "nbgrader": {
     "grade": false,
     "grade_id": "cell-7724562a9d60e03f",
     "locked": true,
     "schema_version": 3,
     "solution": false,
     "task": false
    }
   },
   "source": [
    "Modify the following path to ensure data is stored at the correct location."
   ]
  },
  {
   "cell_type": "code",
   "execution_count": null,
   "id": "6",
   "metadata": {
    "nbgrader": {
     "grade": false,
     "grade_id": "cell-747b2a9933f70ee5",
     "locked": true,
     "schema_version": 3,
     "solution": false,
     "task": false
    }
   },
   "outputs": [],
   "source": [
    "from pathlib import Path\n",
    "\n",
    "if IN_COLAB:\n",
    "    DATA_PATH = Path(\"/content/drive/MyDrive/cas-dl-module-compvis-part1\")\n",
    "else:\n",
    "    DATA_PATH = Path(\"/workspace/data\")"
   ]
  },
  {
   "cell_type": "markdown",
   "id": "7",
   "metadata": {},
   "source": [
    "Install `dl_cv_lectures` package with all necessary dependencies.\n",
    "\n",
    "This package provides the environment of the exercises-repository, as well as helper- and utils modules: [Link](https://github.com/marco-willi/cas-dl-compvis-exercises-hs2025)\n",
    "\n",
    "The following code installs the package from a local repository (if available), otherwise it installs it from the exercise repository."
   ]
  },
  {
   "cell_type": "code",
   "execution_count": null,
   "id": "8",
   "metadata": {},
   "outputs": [],
   "source": [
    "try:\n",
    "    import dl_cv_lectures\n",
    "\n",
    "    print(\"dl_cv_lectures installed, all good\")\n",
    "except ImportError:\n",
    "    import os\n",
    "\n",
    "    if Path(\"/workspace/pyproject.toml\").exists():\n",
    "        print(\"Installing from local repo\")\n",
    "        os.system(\"cd /workspace  && pip install .\")\n",
    "    else:\n",
    "        print(\"Installing from git repo\")\n",
    "        os.system(\n",
    "            \"pip install git+https://github.com/marco-willi/cas-dl-compvis-exercises-hs2025\"\n",
    "        )"
   ]
  },
  {
   "cell_type": "markdown",
   "id": "9",
   "metadata": {
    "nbgrader": {
     "grade": false,
     "grade_id": "cell-3a483458ed52db13",
     "locked": true,
     "schema_version": 3,
     "solution": false,
     "task": false
    }
   },
   "source": [
    "# Library Imports"
   ]
  },
  {
   "cell_type": "markdown",
   "id": "10",
   "metadata": {
    "nbgrader": {
     "grade": false,
     "grade_id": "cell-d2a618f47501694b",
     "locked": true,
     "schema_version": 3,
     "solution": false,
     "task": false
    }
   },
   "source": [
    "We load all necessary packages."
   ]
  },
  {
   "cell_type": "code",
   "execution_count": null,
   "id": "11",
   "metadata": {},
   "outputs": [],
   "source": [
    "# Environment Check - All imports are intentionally tested\n",
    "\n",
    "# ruff: noqa: I\n",
    "\n",
    "# --- Standard library ---\n",
    "import io\n",
    "import os\n",
    "from pathlib import Path\n",
    "\n",
    "# --------- Hugging Face Ecosystem --------- #\n",
    "# --------- data & analysis -------- #\n",
    "# --------- generative ai --------- #\n",
    "# --------- HTTP & APIs --------- #\n",
    "import requests\n",
    "\n",
    "# --------- visualize -------- #\n",
    "# --------- machine learning --------- #\n",
    "import torch\n",
    "\n",
    "# --------- Experiment Tracking --------- #\n",
    "# --------- Utilities --------- #\n",
    "# --------- data & image processing --------- #\n",
    "from PIL import Image\n",
    "\n",
    "# --- Local / course packages ---"
   ]
  },
  {
   "cell_type": "markdown",
   "id": "12",
   "metadata": {
    "nbgrader": {
     "grade": false,
     "grade_id": "cell-d1e6c78e31c003a2",
     "locked": true,
     "schema_version": 3,
     "solution": false,
     "task": false
    }
   },
   "source": [
    "## Test Some Operations\n",
    "\n",
    "Now we simply apply some of the packages that we imported.\n",
    "\n",
    "We also test data storage on your drive."
   ]
  },
  {
   "cell_type": "code",
   "execution_count": null,
   "id": "13",
   "metadata": {
    "nbgrader": {
     "grade": false,
     "grade_id": "cell-bd359a00d31b051c",
     "locked": true,
     "schema_version": 3,
     "solution": false,
     "task": false
    }
   },
   "outputs": [],
   "source": [
    "url = \"https://github.com/pytorch/vision/blob/main/gallery/assets/dog2.jpg?raw=true\"\n",
    "r = requests.get(url, allow_redirects=True)\n",
    "image = Image.open(io.BytesIO(r.content))\n",
    "image"
   ]
  },
  {
   "cell_type": "markdown",
   "id": "14",
   "metadata": {
    "nbgrader": {
     "grade": false,
     "grade_id": "cell-d572ac3a61fd74ef",
     "locked": true,
     "schema_version": 3,
     "solution": false,
     "task": false
    }
   },
   "source": [
    "Now we save the image in `DATA_PATH`."
   ]
  },
  {
   "cell_type": "code",
   "execution_count": null,
   "id": "15",
   "metadata": {
    "nbgrader": {
     "grade": false,
     "grade_id": "cell-32ea3ea6236685e9",
     "locked": true,
     "schema_version": 3,
     "solution": false,
     "task": false
    }
   },
   "outputs": [],
   "source": [
    "image_path = DATA_PATH.joinpath(\"dog.png\")\n",
    "\n",
    "image.save(image_path)"
   ]
  },
  {
   "cell_type": "markdown",
   "id": "16",
   "metadata": {
    "nbgrader": {
     "grade": false,
     "grade_id": "cell-103eb00e7b6e75cc",
     "locked": true,
     "schema_version": 3,
     "solution": false,
     "task": false
    }
   },
   "source": [
    "Now we load the image and display it."
   ]
  },
  {
   "cell_type": "code",
   "execution_count": null,
   "id": "17",
   "metadata": {
    "nbgrader": {
     "grade": false,
     "grade_id": "cell-feb275b6842b9b23",
     "locked": true,
     "schema_version": 3,
     "solution": false,
     "task": false
    }
   },
   "outputs": [],
   "source": [
    "from torchvision.io import read_image\n",
    "\n",
    "image = read_image(image_path)"
   ]
  },
  {
   "cell_type": "code",
   "execution_count": null,
   "id": "18",
   "metadata": {
    "nbgrader": {
     "grade": false,
     "grade_id": "cell-c8c07fe0a9fb7a0c",
     "locked": true,
     "schema_version": 3,
     "solution": false,
     "task": false
    }
   },
   "outputs": [],
   "source": [
    "from torchvision.transforms import functional as F\n",
    "\n",
    "F.to_pil_image(image)"
   ]
  },
  {
   "cell_type": "markdown",
   "id": "19",
   "metadata": {
    "nbgrader": {
     "grade": false,
     "grade_id": "cell-a165f358db2e0cd5",
     "locked": true,
     "schema_version": 3,
     "solution": false,
     "task": false
    }
   },
   "source": [
    "# PyTorch Device Test\n",
    "\n",
    "Simple test. Depending on your hardware and/or the instance that you are using it should be GPU or CPU."
   ]
  },
  {
   "cell_type": "code",
   "execution_count": null,
   "id": "20",
   "metadata": {
    "nbgrader": {
     "grade": false,
     "grade_id": "cell-9f442776b8eaebe3",
     "locked": true,
     "schema_version": 3,
     "solution": false,
     "task": false
    }
   },
   "outputs": [],
   "source": [
    "# setting device on GPU if available, else CPU\n",
    "device = torch.device(\"cuda\" if torch.cuda.is_available() else \"cpu\")\n",
    "print(\"Using device:\", device)\n",
    "print()\n",
    "\n",
    "# Additional Info when using cuda\n",
    "if device.type == \"cuda\":\n",
    "    print(torch.cuda.get_device_name(0))\n",
    "    print(\"Memory Usage:\")\n",
    "    print(\"Allocated:\", round(torch.cuda.memory_allocated(0) / 1024**3, 1), \"GB\")\n",
    "    print(\"Cached:   \", round(torch.cuda.memory_reserved(0) / 1024**3, 1), \"GB\")"
   ]
  }
 ],
 "metadata": {
  "kernelspec": {
   "display_name": "base",
   "language": "python",
   "name": "python3"
  },
  "language_info": {
   "codemirror_mode": {
    "name": "ipython",
    "version": 3
   },
   "file_extension": ".py",
   "mimetype": "text/x-python",
   "name": "python",
   "nbconvert_exporter": "python",
   "pygments_lexer": "ipython3",
   "version": "3.11.13"
  }
 },
 "nbformat": 4,
 "nbformat_minor": 5
}
