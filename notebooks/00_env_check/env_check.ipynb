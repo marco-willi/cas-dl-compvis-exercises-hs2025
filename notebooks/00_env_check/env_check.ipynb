{
 "cells": [
  {
   "cell_type": "code",
   "execution_count": null,
   "id": "0",
   "metadata": {
    "nbgrader": {
     "grade": false,
     "grade_id": "load",
     "locked": true,
     "schema_version": 3,
     "solution": false,
     "task": false
    },
    "tags": []
   },
   "outputs": [],
   "source": [
    "from IPython.core.interactiveshell import InteractiveShell\n",
    "\n",
    "InteractiveShell.ast_node_interactivity = \"all\""
   ]
  },
  {
   "cell_type": "markdown",
   "id": "1",
   "metadata": {
    "nbgrader": {
     "grade": false,
     "grade_id": "header",
     "locked": true,
     "schema_version": 3,
     "solution": false,
     "task": false
    },
    "tags": []
   },
   "source": [
    "# Environment / Setup Check\n",
    "\n",
    "This notebook is for checking your environment setup.\n",
    "\n",
    "You can execute this within Google Colab or your own environment.\n",
    "\n",
    "Just run the notebook to verify the environment.\n"
   ]
  },
  {
   "cell_type": "markdown",
   "id": "2",
   "metadata": {
    "nbgrader": {
     "grade": false,
     "grade_id": "cell-d36f1df224ab279c",
     "locked": true,
     "schema_version": 3,
     "solution": false,
     "task": false
    }
   },
   "source": [
    "## Google Colab Check\n"
   ]
  },
  {
   "cell_type": "code",
   "execution_count": null,
   "id": "3",
   "metadata": {
    "nbgrader": {
     "grade": false,
     "grade_id": "cell-42cfd4cc5c371de6",
     "locked": true,
     "schema_version": 3,
     "solution": false,
     "task": false
    }
   },
   "outputs": [],
   "source": [
    "import sys\n",
    "\n",
    "IN_COLAB = \"google.colab\" in sys.modules\n",
    "print(f\"In colab: {IN_COLAB}\")"
   ]
  },
  {
   "cell_type": "markdown",
   "id": "4",
   "metadata": {},
   "source": [
    "We mount google drive to store data."
   ]
  },
  {
   "cell_type": "code",
   "execution_count": null,
   "id": "5",
   "metadata": {
    "nbgrader": {
     "grade": false,
     "grade_id": "cell-299dff08066dbe83",
     "locked": true,
     "schema_version": 3,
     "solution": false,
     "task": false
    }
   },
   "outputs": [],
   "source": [
    "if IN_COLAB:\n",
    "    from google.colab import drive\n",
    "\n",
    "    drive.mount(\"/content/drive\")"
   ]
  },
  {
   "cell_type": "markdown",
   "id": "6",
   "metadata": {},
   "source": [
    "## Specify Data Path"
   ]
  },
  {
   "cell_type": "markdown",
   "id": "7",
   "metadata": {
    "nbgrader": {
     "grade": false,
     "grade_id": "cell-7724562a9d60e03f",
     "locked": true,
     "schema_version": 3,
     "solution": false,
     "task": false
    }
   },
   "source": [
    "**Modify** the following path to ensure data is stored at the correct location."
   ]
  },
  {
   "cell_type": "code",
   "execution_count": null,
   "id": "8",
   "metadata": {
    "nbgrader": {
     "grade": false,
     "grade_id": "cell-747b2a9933f70ee5",
     "locked": true,
     "schema_version": 3,
     "solution": false,
     "task": false
    }
   },
   "outputs": [],
   "source": [
    "from pathlib import Path\n",
    "\n",
    "if IN_COLAB:\n",
    "    DATA_PATH = Path(\"/content/drive/MyDrive/cas-dl-module-compvis-part1\")\n",
    "else:\n",
    "    DATA_PATH = Path(\"../../data\")\n",
    "assert DATA_PATH.exists(), f\"PATH: {DATA_PATH} does not exist.\""
   ]
  },
  {
   "cell_type": "markdown",
   "id": "9",
   "metadata": {},
   "source": [
    "## Install Lectures Package\n",
    "\n",
    "Install `dl_cv_lectures` package with all necessary dependencies.\n",
    "\n",
    "This package provides the environment of the exercises-repository, as well as helper- and utils modules: [Link](https://github.com/marco-willi/cas-dl-compvis-exercises-hs2025)\n",
    "\n",
    "The following code installs the package from a local repository (if available), otherwise it installs it from the exercise repository."
   ]
  },
  {
   "cell_type": "code",
   "execution_count": null,
   "id": "10",
   "metadata": {},
   "outputs": [],
   "source": [
    "from pathlib import Path\n",
    "import subprocess\n",
    "import sys\n",
    "from rich.console import Console\n",
    "\n",
    "console = Console()\n",
    "\n",
    "\n",
    "def ensure_dl_cv_lectures():\n",
    "    \"\"\"Ensure dl_cv_lectures is installed (local or from GitHub).\"\"\"\n",
    "    try:\n",
    "        import dl_cv_lectures\n",
    "\n",
    "        console.print(\n",
    "            \"[bold green]✅ dl_cv_lectures installed — all good![/bold green]\"\n",
    "        )\n",
    "        return\n",
    "    except ImportError:\n",
    "        console.print(\"[bold yellow]⚠️ dl_cv_lectures not found.[/bold yellow]\")\n",
    "    repo_path = Path(\"/workspace/pyproject.toml\")\n",
    "    if repo_path.exists():\n",
    "        console.print(\"[cyan]📦 Installing from local repository...[/cyan]\")\n",
    "        cmd = [sys.executable, \"-m\", \"pip\", \"install\", \"-e\", \"/workspace\"]\n",
    "    else:\n",
    "        console.print(\"[cyan]🌐 Installing from GitHub repository...[/cyan]\")\n",
    "        cmd = [\n",
    "            sys.executable,\n",
    "            \"-m\",\n",
    "            \"pip\",\n",
    "            \"install\",\n",
    "            \"git+https://github.com/marco-willi/cas-dl-compvis-exercises-hs2025\",\n",
    "        ]\n",
    "    try:\n",
    "        subprocess.run(cmd, check=True)\n",
    "        console.print(\"[bold green]✅ Installation successful![/bold green]\")\n",
    "    except subprocess.CalledProcessError as e:\n",
    "        console.print(f\"[bold red]❌ Installation failed ({e}).[/bold red]\")\n",
    "\n",
    "\n",
    "ensure_dl_cv_lectures()"
   ]
  },
  {
   "cell_type": "markdown",
   "id": "11",
   "metadata": {},
   "source": [
    "## Verify Environment\n",
    "\n",
    "All required packages are loaded and inspected. \n",
    "\n",
    "Note: There might be a Warning message due to a harmless incompatibility between wandb and pydantic."
   ]
  },
  {
   "cell_type": "code",
   "execution_count": null,
   "id": "12",
   "metadata": {},
   "outputs": [],
   "source": [
    "from importlib import import_module\n",
    "from rich.table import Table\n",
    "from rich.console import Console\n",
    "from rich.text import Text\n",
    "from rich import box\n",
    "import platform\n",
    "import sys\n",
    "\n",
    "console = Console()\n",
    "\n",
    "MODULE_GROUPS = {\n",
    "    \"Standard\": [\"base64\", \"io\", \"os\", \"pathlib\"],\n",
    "    \"Data & Analysis\": [\"pandas\", \"numpy\"],\n",
    "    \"Visualization\": [\"matplotlib\", \"seaborn\"],\n",
    "    \"Image Processing\": [\"PIL\", \"cv2\"],\n",
    "    \"ML Core\": [\n",
    "        \"mlxtend\",\n",
    "        \"sklearn\",\n",
    "        \"torch\",\n",
    "        \"torchvision\",\n",
    "        \"torchmetrics\",\n",
    "        \"torchshow\",\n",
    "        \"torchviz\",\n",
    "        \"torchinfo\",\n",
    "        \"visualtorch\",\n",
    "        \"lightning\",\n",
    "        \"transformers\",\n",
    "    ],\n",
    "    \"Hugging Face\": [\"datasets\", \"diffusers\", \"huggingface_hub\"],\n",
    "    \"Generative AI\": [\"openai\", \"replicate\", \"google.generativeai\"],\n",
    "    \"Tracking\": [\"tensorboard\", \"wandb\"],\n",
    "    \"Utilities\": [\"requests\", \"tqdm\", \"dotenv\", \"pyrootutils\", \"gdown\"],\n",
    "    \"Local\": [\"dl_cv_lectures\"],\n",
    "}\n",
    "\n",
    "\n",
    "# --- Helper: safe import and version fetch\n",
    "def check_module(name):\n",
    "    try:\n",
    "        mod = import_module(name)\n",
    "        ver = getattr(mod, \"__version__\", \"—\")\n",
    "        return \"✅\", ver\n",
    "    except Exception as e:\n",
    "        return \"❌\", str(e.__class__.__name__)\n",
    "\n",
    "\n",
    "# --- Build rich table\n",
    "table = Table(title=\"Environment Check\", box=box.MINIMAL_DOUBLE_HEAD, show_lines=False)\n",
    "table.add_column(\"Category\", style=\"bold cyan\", justify=\"right\")\n",
    "table.add_column(\"Package\", style=\"bold white\")\n",
    "table.add_column(\"Version / Status\", style=\"magenta\")\n",
    "\n",
    "for group, mods in MODULE_GROUPS.items():\n",
    "    for i, name in enumerate(mods):\n",
    "        status, ver = check_module(name)\n",
    "        label = f\"{status} {name}\"\n",
    "        cat = group if i == 0 else \"\"\n",
    "        table.add_row(cat, label, ver)\n",
    "\n",
    "console.print()\n",
    "console.print(Text(\"🧩 Python Environment Summary\", style=\"bold underline cyan\"))\n",
    "console.print(\n",
    "    f\"Python {sys.version.split()[0]}  |  Platform: {platform.system()} {platform.release()}\"\n",
    ")\n",
    "console.print(table)\n",
    "\n",
    "# --- Optional GPU info\n",
    "try:\n",
    "    import torch\n",
    "\n",
    "    if torch.cuda.is_available():\n",
    "        console.print(\n",
    "            f\"⚙️  CUDA Available: {torch.cuda.get_device_name(0)}\", style=\"bold green\"\n",
    "        )\n",
    "    else:\n",
    "        console.print(\"⚙️  CUDA: Not Available\", style=\"bold yellow\")\n",
    "except Exception:\n",
    "    pass"
   ]
  },
  {
   "cell_type": "markdown",
   "id": "13",
   "metadata": {
    "nbgrader": {
     "grade": false,
     "grade_id": "cell-3a483458ed52db13",
     "locked": true,
     "schema_version": 3,
     "solution": false,
     "task": false
    }
   },
   "source": [
    "## Import Libraries"
   ]
  },
  {
   "cell_type": "markdown",
   "id": "14",
   "metadata": {
    "nbgrader": {
     "grade": false,
     "grade_id": "cell-d2a618f47501694b",
     "locked": true,
     "schema_version": 3,
     "solution": false,
     "task": false
    }
   },
   "source": [
    "We load all necessary packages."
   ]
  },
  {
   "cell_type": "code",
   "execution_count": null,
   "id": "15",
   "metadata": {},
   "outputs": [],
   "source": [
    "import io\n",
    "import requests\n",
    "\n",
    "from PIL import Image\n",
    "from torchvision.io import read_image\n",
    "from torchvision.transforms import functional as F"
   ]
  },
  {
   "cell_type": "markdown",
   "id": "16",
   "metadata": {
    "nbgrader": {
     "grade": false,
     "grade_id": "cell-d1e6c78e31c003a2",
     "locked": true,
     "schema_version": 3,
     "solution": false,
     "task": false
    }
   },
   "source": [
    "## Test Some Operations\n",
    "\n",
    "Now we simply apply some of the packages that we imported.\n",
    "\n",
    "We also test data storage on your drive."
   ]
  },
  {
   "cell_type": "code",
   "execution_count": null,
   "id": "17",
   "metadata": {
    "nbgrader": {
     "grade": false,
     "grade_id": "cell-bd359a00d31b051c",
     "locked": true,
     "schema_version": 3,
     "solution": false,
     "task": false
    }
   },
   "outputs": [],
   "source": [
    "url = \"https://github.com/pytorch/vision/blob/main/gallery/assets/dog2.jpg?raw=true\"\n",
    "r = requests.get(url, allow_redirects=True)\n",
    "image = Image.open(io.BytesIO(r.content))\n",
    "image"
   ]
  },
  {
   "cell_type": "markdown",
   "id": "18",
   "metadata": {
    "nbgrader": {
     "grade": false,
     "grade_id": "cell-d572ac3a61fd74ef",
     "locked": true,
     "schema_version": 3,
     "solution": false,
     "task": false
    }
   },
   "source": [
    "Now we save the image in `DATA_PATH`."
   ]
  },
  {
   "cell_type": "code",
   "execution_count": null,
   "id": "19",
   "metadata": {
    "nbgrader": {
     "grade": false,
     "grade_id": "cell-32ea3ea6236685e9",
     "locked": true,
     "schema_version": 3,
     "solution": false,
     "task": false
    }
   },
   "outputs": [],
   "source": [
    "image_path = DATA_PATH.joinpath(\"dog.png\")\n",
    "\n",
    "image.save(image_path)"
   ]
  },
  {
   "cell_type": "markdown",
   "id": "20",
   "metadata": {
    "nbgrader": {
     "grade": false,
     "grade_id": "cell-103eb00e7b6e75cc",
     "locked": true,
     "schema_version": 3,
     "solution": false,
     "task": false
    }
   },
   "source": [
    "Now we load the image and display it."
   ]
  },
  {
   "cell_type": "code",
   "execution_count": null,
   "id": "21",
   "metadata": {
    "nbgrader": {
     "grade": false,
     "grade_id": "cell-feb275b6842b9b23",
     "locked": true,
     "schema_version": 3,
     "solution": false,
     "task": false
    }
   },
   "outputs": [],
   "source": [
    "image = read_image(image_path)"
   ]
  },
  {
   "cell_type": "code",
   "execution_count": null,
   "id": "22",
   "metadata": {
    "nbgrader": {
     "grade": false,
     "grade_id": "cell-c8c07fe0a9fb7a0c",
     "locked": true,
     "schema_version": 3,
     "solution": false,
     "task": false
    }
   },
   "outputs": [],
   "source": [
    "F.to_pil_image(image)"
   ]
  }
 ],
 "metadata": {
  "kernelspec": {
   "display_name": "Python 3 (ipykernel)",
   "language": "python",
   "name": "python3"
  },
  "language_info": {
   "codemirror_mode": {
    "name": "ipython",
    "version": 3
   },
   "file_extension": ".py",
   "mimetype": "text/x-python",
   "name": "python",
   "nbconvert_exporter": "python",
   "pygments_lexer": "ipython3",
   "version": "3.11.13"
  }
 },
 "nbformat": 4,
 "nbformat_minor": 5
}
